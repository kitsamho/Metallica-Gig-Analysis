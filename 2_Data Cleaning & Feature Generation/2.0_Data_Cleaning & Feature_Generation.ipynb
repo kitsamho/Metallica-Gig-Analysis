{
 "cells": [
  {
   "cell_type": "markdown",
   "metadata": {},
   "source": [
    "<img src=\"Assets/2.png\">"
   ]
  },
  {
   "cell_type": "markdown",
   "metadata": {},
   "source": [
    "# `Contents:`\n",
    "\n",
    "- [Goals](#goals)\n",
    "- [Load Libraries](#load)\n",
    "- [Feature Engineering](#features)\n",
    "\t- [Last track of the night](#last) \n",
    "\t- [Has solos?](#solo)\n",
    "\t- [Part of a festival?](#festival)\n",
    "\t- [Album Counts](#album)\n",
    "\t- [Geo-Location](#geo)\n",
    "- [Finalise the columns and export the CSV](#final)        "
   ]
  },
  {
   "cell_type": "markdown",
   "metadata": {},
   "source": [
    "<a id=\"goals\"></a>\n",
    "# `Goals`\n",
    "---"
   ]
  },
  {
   "cell_type": "markdown",
   "metadata": {},
   "source": [
    "Ok, great - so now we have all of our primary data (live performances scraped from Metallica.com) and all of our secondary data (all the album information from Metalstorm.net). The next step is to think about all the extra features we want to create and then finalise the database. "
   ]
  },
  {
   "cell_type": "markdown",
   "metadata": {},
   "source": [
    "<a id=\"load\"></a>\n",
    "# `Load Libraries`\n",
    "---"
   ]
  },
  {
   "cell_type": "code",
   "execution_count": 1,
   "metadata": {},
   "outputs": [],
   "source": [
    "import pandas as pd\n",
    "import numpy as np\n",
    "import regex as re\n",
    "import ast\n",
    "from tqdm import tqdm_notebook"
   ]
  },
  {
   "cell_type": "code",
   "execution_count": 33,
   "metadata": {},
   "outputs": [],
   "source": [
    "df = pd.read_csv('./Dirty/Metallica_Data_Dirty.csv')"
   ]
  },
  {
   "cell_type": "code",
   "execution_count": 3,
   "metadata": {},
   "outputs": [],
   "source": [
    "#converts any list in csv back to list from string\n",
    "def converter(x):\n",
    "    try:\n",
    "        return ast.literal_eval(x)\n",
    "    except:\n",
    "        return x\n",
    "\n",
    "df['Set'] = df['Set'].apply(converter)\n",
    "df['Encores'] = df['Encores'].apply(converter)\n",
    "df['Other_Acts'] = df['Other_Acts'].apply(converter)"
   ]
  },
  {
   "cell_type": "markdown",
   "metadata": {},
   "source": [
    "<a id=\"features\"></a>\n",
    "# `Feature Engineering`\n",
    "---"
   ]
  },
  {
   "cell_type": "markdown",
   "metadata": {},
   "source": [
    "### There are a handful of extra features which will add extra ways of analysing the data:\n",
    "    \n",
    "    -Last_track_Set\n",
    "    -Last_track_Encores\n",
    "    \n",
    "The last song of the night is always a big deal. Let's pull out what tracks are played last in the main set and last in the encore\n",
    "\n",
    "    -Has_Guitar_Solo\n",
    "    -Has_Bass_Solo\n",
    "    -Has_Drum_Solo\n",
    "    -Has_Medley\n",
    "    \n",
    "It might be interesting to see which tours we got to see any guitar / bass / drum solos and any extended medleys\n",
    "    \n",
    "    -Count of tracks from each album\n",
    "    \n",
    "This is probably the most useful feature - to see what albums get played the most in a live scenario. I'll use the dictionary I created in 1.2_Data_Acquisition_Supporting_Data to supply the data I need in order to do any cross referencing and code up any album data into the live data\n",
    "\n",
    "    -Part of festival?\n",
    "    \n",
    "Some concerts were part of a festival i.e Monsters Of Rock @ Donington Park. Where feasible I'll pull out the festival name into its own series.\n",
    "\n",
    "    -Latitude\n",
    "    -Longitude\n",
    "    \n",
    "Using geocoding through Googlemaps API, we can append latitude and longitude data ansd do some interesting visualisations in Tableau\n"
   ]
  },
  {
   "cell_type": "markdown",
   "metadata": {},
   "source": [
    "<a id=\"last\"></a>\n",
    "## `Last track of the night`\n",
    "---"
   ]
  },
  {
   "cell_type": "code",
   "execution_count": 4,
   "metadata": {},
   "outputs": [],
   "source": [
    "#returns last element of list\n",
    "def last_return(x):\n",
    "    try:\n",
    "        return x[-1]\n",
    "    except:\n",
    "        return np.nan"
   ]
  },
  {
   "cell_type": "code",
   "execution_count": 5,
   "metadata": {},
   "outputs": [],
   "source": [
    "df['Last_track_Set'] = df['Set'].apply(last_return)"
   ]
  },
  {
   "cell_type": "code",
   "execution_count": 6,
   "metadata": {},
   "outputs": [],
   "source": [
    "df['Last_track_Encore'] = df['Encores'].apply(last_return)"
   ]
  },
  {
   "cell_type": "markdown",
   "metadata": {},
   "source": [
    "<a id=\"solo\"></a>\n",
    "## `Has solos?`\n",
    "---\n"
   ]
  },
  {
   "cell_type": "code",
   "execution_count": 7,
   "metadata": {},
   "outputs": [],
   "source": [
    "#functions that tag if set contains...\n",
    "#...guitar solo\n",
    "def has_guitar_solo(x):\n",
    "    tag = 'guitar solo'\n",
    "    if tag in str(x).lower():\n",
    "        return True\n",
    "    else:\n",
    "        return False\n",
    "\n",
    "#...bass solo    \n",
    "def has_bass_solo(x):\n",
    "    tag = 'bass solo'\n",
    "    if tag in str(x).lower():\n",
    "        return True\n",
    "    else:\n",
    "        return False\n",
    "\n",
    "#...drum solo\n",
    "def has_drum_solo(x):\n",
    "    tag = 'drum solo'\n",
    "    if tag in str(x).lower():\n",
    "        return True\n",
    "    else:\n",
    "        return False\n",
    "    \n",
    "#...song medley     \n",
    "def has_medley(x):\n",
    "    tag = 'medley'\n",
    "    if tag in str(x).lower():\n",
    "        return True\n",
    "    else:\n",
    "        return False\n",
    "    \n",
    "def has_doodle(x):\n",
    "    tag = 'doodle'\n",
    "    if tag in str(x).lower():\n",
    "        return True\n",
    "    else:\n",
    "        return False"
   ]
  },
  {
   "cell_type": "code",
   "execution_count": 8,
   "metadata": {},
   "outputs": [],
   "source": [
    "df['Has_Guitar_Solo'] = df['Set'].apply(has_guitar_solo)\n",
    "df['Has_Bass_Solo'] = df['Set'].apply(has_bass_solo)\n",
    "df['Has_Drum_Solo'] = df['Set'].apply(has_drum_solo)\n",
    "df['Has_Doodle'] = df['Set'].apply(has_doodle)\n",
    "df['Has_Medley'] = df['Set'].apply(has_medley)"
   ]
  },
  {
   "cell_type": "code",
   "execution_count": 9,
   "metadata": {},
   "outputs": [
    {
     "data": {
      "text/plain": [
       "False    1744\n",
       "True      326\n",
       "Name: Has_Guitar_Solo, dtype: int64"
      ]
     },
     "execution_count": 9,
     "metadata": {},
     "output_type": "execute_result"
    }
   ],
   "source": [
    "df.Has_Guitar_Solo.value_counts()"
   ]
  },
  {
   "cell_type": "code",
   "execution_count": 10,
   "metadata": {},
   "outputs": [
    {
     "data": {
      "text/plain": [
       "False    1489\n",
       "True      581\n",
       "Name: Has_Bass_Solo, dtype: int64"
      ]
     },
     "execution_count": 10,
     "metadata": {},
     "output_type": "execute_result"
    }
   ],
   "source": [
    "df.Has_Bass_Solo.value_counts()"
   ]
  },
  {
   "cell_type": "code",
   "execution_count": 11,
   "metadata": {},
   "outputs": [
    {
     "data": {
      "text/plain": [
       "False    1958\n",
       "True      112\n",
       "Name: Has_Drum_Solo, dtype: int64"
      ]
     },
     "execution_count": 11,
     "metadata": {},
     "output_type": "execute_result"
    }
   ],
   "source": [
    "df.Has_Drum_Solo.value_counts()"
   ]
  },
  {
   "cell_type": "code",
   "execution_count": 12,
   "metadata": {},
   "outputs": [
    {
     "data": {
      "text/plain": [
       "False    1851\n",
       "True      219\n",
       "Name: Has_Doodle, dtype: int64"
      ]
     },
     "execution_count": 12,
     "metadata": {},
     "output_type": "execute_result"
    }
   ],
   "source": [
    "df.Has_Doodle.value_counts()"
   ]
  },
  {
   "cell_type": "code",
   "execution_count": 13,
   "metadata": {},
   "outputs": [
    {
     "data": {
      "text/plain": [
       "False    1715\n",
       "True      355\n",
       "Name: Has_Medley, dtype: int64"
      ]
     },
     "execution_count": 13,
     "metadata": {},
     "output_type": "execute_result"
    }
   ],
   "source": [
    "df.Has_Medley.value_counts()"
   ]
  },
  {
   "cell_type": "markdown",
   "metadata": {},
   "source": [
    "<a id=\"festival\"></a>\n",
    "## `Part of a festival?`\n",
    "---\n"
   ]
  },
  {
   "cell_type": "code",
   "execution_count": 14,
   "metadata": {},
   "outputs": [
    {
     "data": {
      "text/html": [
       "<div>\n",
       "<style scoped>\n",
       "    .dataframe tbody tr th:only-of-type {\n",
       "        vertical-align: middle;\n",
       "    }\n",
       "\n",
       "    .dataframe tbody tr th {\n",
       "        vertical-align: top;\n",
       "    }\n",
       "\n",
       "    .dataframe thead th {\n",
       "        text-align: right;\n",
       "    }\n",
       "</style>\n",
       "<table border=\"1\" class=\"dataframe\">\n",
       "  <thead>\n",
       "    <tr style=\"text-align: right;\">\n",
       "      <th></th>\n",
       "      <th>Venue</th>\n",
       "    </tr>\n",
       "  </thead>\n",
       "  <tbody>\n",
       "    <tr>\n",
       "      <th>15</th>\n",
       "      <td>Austin City Limits @ Zilker Park</td>\n",
       "    </tr>\n",
       "    <tr>\n",
       "      <th>16</th>\n",
       "      <td>Austin City Limits @ Zilker Park</td>\n",
       "    </tr>\n",
       "  </tbody>\n",
       "</table>\n",
       "</div>"
      ],
      "text/plain": [
       "                               Venue\n",
       "15  Austin City Limits @ Zilker Park\n",
       "16  Austin City Limits @ Zilker Park"
      ]
     },
     "execution_count": 14,
     "metadata": {},
     "output_type": "execute_result"
    }
   ],
   "source": [
    "pre = df[['Venue']]\n",
    "pre.iloc[15:17]"
   ]
  },
  {
   "cell_type": "code",
   "execution_count": 15,
   "metadata": {},
   "outputs": [],
   "source": [
    "def keep_festival(x):\n",
    "    if '@' in x:\n",
    "        return x.split('@')[0].strip()\n",
    "    else:\n",
    "        return np.nan"
   ]
  },
  {
   "cell_type": "code",
   "execution_count": 16,
   "metadata": {},
   "outputs": [],
   "source": [
    "df['Festival'] = df['Venue']"
   ]
  },
  {
   "cell_type": "code",
   "execution_count": 17,
   "metadata": {},
   "outputs": [],
   "source": [
    "df['Festival'] = df['Festival'].apply(keep_festival)"
   ]
  },
  {
   "cell_type": "code",
   "execution_count": 18,
   "metadata": {},
   "outputs": [],
   "source": [
    "## lets remove the festival from the venue column now\n",
    "def remove_festival(x):\n",
    "    if '@' in x:\n",
    "        return x.split('@')[1].strip()\n",
    "    else:\n",
    "        return x"
   ]
  },
  {
   "cell_type": "code",
   "execution_count": 19,
   "metadata": {},
   "outputs": [],
   "source": [
    "#apply function to the entire Venue column\n",
    "df['Venue'] = df['Venue'].apply(remove_festival)"
   ]
  },
  {
   "cell_type": "code",
   "execution_count": 20,
   "metadata": {},
   "outputs": [
    {
     "data": {
      "text/html": [
       "<div>\n",
       "<style scoped>\n",
       "    .dataframe tbody tr th:only-of-type {\n",
       "        vertical-align: middle;\n",
       "    }\n",
       "\n",
       "    .dataframe tbody tr th {\n",
       "        vertical-align: top;\n",
       "    }\n",
       "\n",
       "    .dataframe thead th {\n",
       "        text-align: right;\n",
       "    }\n",
       "</style>\n",
       "<table border=\"1\" class=\"dataframe\">\n",
       "  <thead>\n",
       "    <tr style=\"text-align: right;\">\n",
       "      <th></th>\n",
       "      <th>Venue</th>\n",
       "      <th>Festival</th>\n",
       "    </tr>\n",
       "  </thead>\n",
       "  <tbody>\n",
       "    <tr>\n",
       "      <th>15</th>\n",
       "      <td>Zilker Park</td>\n",
       "      <td>Austin City Limits</td>\n",
       "    </tr>\n",
       "    <tr>\n",
       "      <th>16</th>\n",
       "      <td>Zilker Park</td>\n",
       "      <td>Austin City Limits</td>\n",
       "    </tr>\n",
       "  </tbody>\n",
       "</table>\n",
       "</div>"
      ],
      "text/plain": [
       "          Venue            Festival\n",
       "15  Zilker Park  Austin City Limits\n",
       "16  Zilker Park  Austin City Limits"
      ]
     },
     "execution_count": 20,
     "metadata": {},
     "output_type": "execute_result"
    }
   ],
   "source": [
    "#excellent - looks like it wored\n",
    "post = df[['Venue','Festival']]\n",
    "post.iloc[15:17]"
   ]
  },
  {
   "cell_type": "markdown",
   "metadata": {},
   "source": [
    "<a id=\"album\"></a>\n",
    "## `Album Counts`\n",
    "---"
   ]
  },
  {
   "cell_type": "code",
   "execution_count": 21,
   "metadata": {},
   "outputs": [],
   "source": [
    "# Let's load in the previous Metallica Dictionary we made a while back\n",
    "met_dict = np.load('metallica_discography.npy').item()"
   ]
  },
  {
   "cell_type": "code",
   "execution_count": 22,
   "metadata": {},
   "outputs": [],
   "source": [
    "#function that takes in a set list as an argument and an album. Returns the number of times an albums song was played\n",
    "#in that set\n",
    "def album_counter(x,album):\n",
    "    try:\n",
    "        album_count=0\n",
    "        #converts dictionary value (album list) into lower case\n",
    "        album_list_low = [i.lower() for i in list(met_dict[album])]\n",
    "        for each in x:\n",
    "            if each.lower() in album_list_low :\n",
    "                  album_count +=1\n",
    "        return int(album_count)\n",
    "    except:\n",
    "        return x"
   ]
  },
  {
   "cell_type": "code",
   "execution_count": 23,
   "metadata": {},
   "outputs": [
    {
     "data": {
      "text/plain": [
       "dict_keys([\"Kill 'Em All\", 'Ride The Lightning', 'Master Of Puppets', '...And Justice For All', 'Metallica', 'Load', 'Re-Load', 'Garage Inc.', 'St. Anger', 'Death Magnetic', 'Hardwired... To Self-Destruct'])"
      ]
     },
     "execution_count": 23,
     "metadata": {},
     "output_type": "execute_result"
    }
   ],
   "source": [
    "met_dict.keys()"
   ]
  },
  {
   "cell_type": "code",
   "execution_count": 24,
   "metadata": {},
   "outputs": [],
   "source": [
    "df[\"Kill_'Em_All_Count\"] = df['Set'].apply(lambda x: album_counter(x,\"Kill 'Em All\"))\n",
    "df['Ride_The_Lightning_Count'] = df['Set'].apply(lambda x: album_counter(x,\"Ride The Lightning\"))\n",
    "df['Master_Of_Puppets_Count'] = df['Set'].apply(lambda x: album_counter(x,\"Master Of Puppets\"))\n",
    "df['And_Justice_For_All_Count'] = df['Set'].apply(lambda x: album_counter(x,\"...And Justice For All\"))\n",
    "df['Metallica_Count'] = df['Set'].apply(lambda x: album_counter(x,\"Metallica\"))\n",
    "df['Load_Count'] = df['Set'].apply(lambda x: album_counter(x,\"Load\"))\n",
    "df['Re_Load_Count'] = df['Set'].apply(lambda x: album_counter(x,\"Re-Load\"))\n",
    "df['Garage_Inc_Count'] = df['Set'].apply(lambda x: album_counter(x,\"Garage Inc.\"))\n",
    "df['St_Anger_Count'] = df['Set'].apply(lambda x: album_counter(x,\"St. Anger\"))\n",
    "df['Death_Magnetic_Count'] = df['Set'].apply(lambda x: album_counter(x,\"Death Magnetic\"))\n",
    "df['Hardwired_To_Self_Destruct_Count'] = df['Set'].apply(lambda x: album_counter(x,\"Hardwired... To Self-Destruct\"))\n"
   ]
  },
  {
   "cell_type": "code",
   "execution_count": 25,
   "metadata": {},
   "outputs": [
    {
     "data": {
      "text/plain": [
       "['Hardwired',\n",
       " 'Atlas, Rise!',\n",
       " 'Seek and Destroy',\n",
       " 'Ride the Lightning',\n",
       " 'Welcome Home (Sanitarium)',\n",
       " \"Now That We're Dead\",\n",
       " 'Creeping Death',\n",
       " 'For Whom the Bell Tolls',\n",
       " 'Fade to Black',\n",
       " 'Hit the Lights',\n",
       " 'Fuel',\n",
       " 'Moth Into Flame',\n",
       " 'Sad But True',\n",
       " 'One',\n",
       " 'Master of Puppets']"
      ]
     },
     "execution_count": 25,
     "metadata": {},
     "output_type": "execute_result"
    }
   ],
   "source": [
    "#there are four RTL tracks in this gig...'Creeping Death','Ride the lightning','Fade to Black' \n",
    "#and 'For Whom the bell tolls'\n",
    "\n",
    "#there are two tracks from Master of Puppets: 'Welcome Home (Sanitarium)' and 'Master of Puppets'\n",
    "df.Set[0]"
   ]
  },
  {
   "cell_type": "code",
   "execution_count": 26,
   "metadata": {},
   "outputs": [
    {
     "data": {
      "text/html": [
       "<div>\n",
       "<style scoped>\n",
       "    .dataframe tbody tr th:only-of-type {\n",
       "        vertical-align: middle;\n",
       "    }\n",
       "\n",
       "    .dataframe tbody tr th {\n",
       "        vertical-align: top;\n",
       "    }\n",
       "\n",
       "    .dataframe thead th {\n",
       "        text-align: right;\n",
       "    }\n",
       "</style>\n",
       "<table border=\"1\" class=\"dataframe\">\n",
       "  <thead>\n",
       "    <tr style=\"text-align: right;\">\n",
       "      <th></th>\n",
       "      <th>Venue</th>\n",
       "      <th>Set</th>\n",
       "      <th>Ride_The_Lightning_Count</th>\n",
       "      <th>Master_Of_Puppets_Count</th>\n",
       "    </tr>\n",
       "  </thead>\n",
       "  <tbody>\n",
       "    <tr>\n",
       "      <th>0</th>\n",
       "      <td>Save Mart Center</td>\n",
       "      <td>[Hardwired, Atlas, Rise!, Seek and Destroy, Ri...</td>\n",
       "      <td>4.0</td>\n",
       "      <td>2.0</td>\n",
       "    </tr>\n",
       "  </tbody>\n",
       "</table>\n",
       "</div>"
      ],
      "text/plain": [
       "              Venue                                                Set  \\\n",
       "0  Save Mart Center  [Hardwired, Atlas, Rise!, Seek and Destroy, Ri...   \n",
       "\n",
       "   Ride_The_Lightning_Count  Master_Of_Puppets_Count  \n",
       "0                       4.0                      2.0  "
      ]
     },
     "execution_count": 26,
     "metadata": {},
     "output_type": "execute_result"
    }
   ],
   "source": [
    "#we can see the count function has worked\n",
    "df[['Venue','Set','Ride_The_Lightning_Count','Master_Of_Puppets_Count']].head(1)"
   ]
  },
  {
   "cell_type": "markdown",
   "metadata": {},
   "source": [
    "<a id=\"geo\"></a>\n",
    "## `Geo-Location`\n",
    "---\n"
   ]
  },
  {
   "cell_type": "code",
   "execution_count": 27,
   "metadata": {},
   "outputs": [],
   "source": [
    "unique_locations = df.City_Country.unique()"
   ]
  },
  {
   "cell_type": "code",
   "execution_count": 30,
   "metadata": {},
   "outputs": [],
   "source": [
    "#Function that returns a location's lat long\n",
    "APIkey = '---YOUR KEY HERE-----'\n",
    "\n",
    "def latlong(x):\n",
    "    import googlemaps\n",
    "    gmaps = googlemaps.Client(key=APIkey)\n",
    "    result = gmaps.geocode(x)   \n",
    "    lat = result[0]['geometry']['location']['lat']\n",
    "    long = result[0]['geometry']['location']['lng']\n",
    "    latlong = lat,long\n",
    "    try:\n",
    "        return latlong\n",
    "    except:\n",
    "        return np.nan"
   ]
  },
  {
   "cell_type": "code",
   "execution_count": null,
   "metadata": {},
   "outputs": [],
   "source": [
    "lat_long = []\n",
    "for i in tqdm_notebook(unique_locations):\n",
    "    lat_long.append(latlong(i))"
   ]
  },
  {
   "cell_type": "code",
   "execution_count": 263,
   "metadata": {},
   "outputs": [],
   "source": [
    "locations = pd.DataFrame({'Location':unique_locations,'Lat_Long':lat_long})"
   ]
  },
  {
   "cell_type": "code",
   "execution_count": 264,
   "metadata": {},
   "outputs": [],
   "source": [
    "locations[['Lat', 'Long']] = locations['Lat_Long'].apply(pd.Series)\n",
    "locations.drop(['Lat_Long'],axis=1,inplace=True)"
   ]
  },
  {
   "cell_type": "code",
   "execution_count": 266,
   "metadata": {},
   "outputs": [],
   "source": [
    "#merging the lat long data on the original data set\n",
    "df = pd.merge(df, locations, left_index=False, right_index=False, \n",
    "                left_on='City_Country', right_on='Location', how = 'left')\n",
    "df.drop(['Location'],axis=1,inplace = True)"
   ]
  },
  {
   "cell_type": "code",
   "execution_count": 267,
   "metadata": {},
   "outputs": [
    {
     "data": {
      "text/html": [
       "<div>\n",
       "<style scoped>\n",
       "    .dataframe tbody tr th:only-of-type {\n",
       "        vertical-align: middle;\n",
       "    }\n",
       "\n",
       "    .dataframe tbody tr th {\n",
       "        vertical-align: top;\n",
       "    }\n",
       "\n",
       "    .dataframe thead th {\n",
       "        text-align: right;\n",
       "    }\n",
       "</style>\n",
       "<table border=\"1\" class=\"dataframe\">\n",
       "  <thead>\n",
       "    <tr style=\"text-align: right;\">\n",
       "      <th></th>\n",
       "      <th>City_Country</th>\n",
       "      <th>Lat</th>\n",
       "      <th>Long</th>\n",
       "    </tr>\n",
       "  </thead>\n",
       "  <tbody>\n",
       "    <tr>\n",
       "      <th>0</th>\n",
       "      <td>Fresno, California, United States</td>\n",
       "      <td>36.737798</td>\n",
       "      <td>-119.787125</td>\n",
       "    </tr>\n",
       "    <tr>\n",
       "      <th>1</th>\n",
       "      <td>Sacramento, California, United States</td>\n",
       "      <td>38.581572</td>\n",
       "      <td>-121.494400</td>\n",
       "    </tr>\n",
       "    <tr>\n",
       "      <th>2</th>\n",
       "      <td>Portland, Oregon, United States</td>\n",
       "      <td>45.512231</td>\n",
       "      <td>-122.658719</td>\n",
       "    </tr>\n",
       "    <tr>\n",
       "      <th>3</th>\n",
       "      <td>Spokane, Washington, United States</td>\n",
       "      <td>47.658780</td>\n",
       "      <td>-117.426046</td>\n",
       "    </tr>\n",
       "    <tr>\n",
       "      <th>4</th>\n",
       "      <td>Salt Lake City, Utah, United States</td>\n",
       "      <td>40.760779</td>\n",
       "      <td>-111.891047</td>\n",
       "    </tr>\n",
       "    <tr>\n",
       "      <th>5</th>\n",
       "      <td>Boise, Idaho, United States</td>\n",
       "      <td>43.615019</td>\n",
       "      <td>-116.202314</td>\n",
       "    </tr>\n",
       "    <tr>\n",
       "      <th>6</th>\n",
       "      <td>Las Vegas, Nevada, United States</td>\n",
       "      <td>36.169941</td>\n",
       "      <td>-115.139830</td>\n",
       "    </tr>\n",
       "    <tr>\n",
       "      <th>7</th>\n",
       "      <td>San Francisco, California, United States</td>\n",
       "      <td>37.774929</td>\n",
       "      <td>-122.419415</td>\n",
       "    </tr>\n",
       "    <tr>\n",
       "      <th>8</th>\n",
       "      <td>Albany, New York, United States</td>\n",
       "      <td>42.652579</td>\n",
       "      <td>-73.756232</td>\n",
       "    </tr>\n",
       "    <tr>\n",
       "      <th>9</th>\n",
       "      <td>Buffalo, New York, United States</td>\n",
       "      <td>42.886447</td>\n",
       "      <td>-78.878369</td>\n",
       "    </tr>\n",
       "    <tr>\n",
       "      <th>10</th>\n",
       "      <td>Philadelphia, Pennsylvania, United States</td>\n",
       "      <td>39.952584</td>\n",
       "      <td>-75.165222</td>\n",
       "    </tr>\n",
       "    <tr>\n",
       "      <th>11</th>\n",
       "      <td>Charlotte, North Carolina, United States</td>\n",
       "      <td>35.227087</td>\n",
       "      <td>-80.843127</td>\n",
       "    </tr>\n",
       "    <tr>\n",
       "      <th>12</th>\n",
       "      <td>State College, Pennsylvania, United States</td>\n",
       "      <td>40.793395</td>\n",
       "      <td>-77.860001</td>\n",
       "    </tr>\n",
       "    <tr>\n",
       "      <th>13</th>\n",
       "      <td>Pittsburgh, Pennsylvania, United States</td>\n",
       "      <td>40.440625</td>\n",
       "      <td>-79.995886</td>\n",
       "    </tr>\n",
       "    <tr>\n",
       "      <th>14</th>\n",
       "      <td>Milwaukee, Wisconsin, United States</td>\n",
       "      <td>43.038902</td>\n",
       "      <td>-87.906474</td>\n",
       "    </tr>\n",
       "    <tr>\n",
       "      <th>15</th>\n",
       "      <td>Austin, Texas, United States</td>\n",
       "      <td>30.267153</td>\n",
       "      <td>-97.743061</td>\n",
       "    </tr>\n",
       "    <tr>\n",
       "      <th>16</th>\n",
       "      <td>Austin, Texas, United States</td>\n",
       "      <td>30.267153</td>\n",
       "      <td>-97.743061</td>\n",
       "    </tr>\n",
       "    <tr>\n",
       "      <th>17</th>\n",
       "      <td>San Francisco, California, United States</td>\n",
       "      <td>37.774929</td>\n",
       "      <td>-122.419415</td>\n",
       "    </tr>\n",
       "    <tr>\n",
       "      <th>18</th>\n",
       "      <td>Saskatoon, Saskatchewan, Canada</td>\n",
       "      <td>52.133214</td>\n",
       "      <td>-106.670046</td>\n",
       "    </tr>\n",
       "    <tr>\n",
       "      <th>19</th>\n",
       "      <td>Winnipeg, Manitoba, Canada</td>\n",
       "      <td>49.895136</td>\n",
       "      <td>-97.138374</td>\n",
       "    </tr>\n",
       "  </tbody>\n",
       "</table>\n",
       "</div>"
      ],
      "text/plain": [
       "                                  City_Country        Lat        Long\n",
       "0            Fresno, California, United States  36.737798 -119.787125\n",
       "1        Sacramento, California, United States  38.581572 -121.494400\n",
       "2              Portland, Oregon, United States  45.512231 -122.658719\n",
       "3           Spokane, Washington, United States  47.658780 -117.426046\n",
       "4          Salt Lake City, Utah, United States  40.760779 -111.891047\n",
       "5                  Boise, Idaho, United States  43.615019 -116.202314\n",
       "6             Las Vegas, Nevada, United States  36.169941 -115.139830\n",
       "7     San Francisco, California, United States  37.774929 -122.419415\n",
       "8              Albany, New York, United States  42.652579  -73.756232\n",
       "9             Buffalo, New York, United States  42.886447  -78.878369\n",
       "10   Philadelphia, Pennsylvania, United States  39.952584  -75.165222\n",
       "11    Charlotte, North Carolina, United States  35.227087  -80.843127\n",
       "12  State College, Pennsylvania, United States  40.793395  -77.860001\n",
       "13     Pittsburgh, Pennsylvania, United States  40.440625  -79.995886\n",
       "14         Milwaukee, Wisconsin, United States  43.038902  -87.906474\n",
       "15                Austin, Texas, United States  30.267153  -97.743061\n",
       "16                Austin, Texas, United States  30.267153  -97.743061\n",
       "17    San Francisco, California, United States  37.774929 -122.419415\n",
       "18             Saskatoon, Saskatchewan, Canada  52.133214 -106.670046\n",
       "19                  Winnipeg, Manitoba, Canada  49.895136  -97.138374"
      ]
     },
     "execution_count": 267,
     "metadata": {},
     "output_type": "execute_result"
    }
   ],
   "source": [
    "#it's worked\n",
    "df[['City_Country','Lat','Long']].head(20)"
   ]
  },
  {
   "cell_type": "markdown",
   "metadata": {},
   "source": [
    "<a id=\"final\"></a>\n",
    "## `Finalise the columns and export the CSV`\n",
    "---\n"
   ]
  },
  {
   "cell_type": "code",
   "execution_count": 269,
   "metadata": {},
   "outputs": [],
   "source": [
    "final = df[['Date', 'Venue','Festival','City_Country', 'Lat', 'Long','Tour', 'Set', 'Last_track_Set', \n",
    "        'Encores','Last_track_Encore','Encores_Count', 'Set_Length', 'Other_Acts',\n",
    "        'Has_Guitar_Solo', 'Has_Bass_Solo',\n",
    "        'Has_Drum_Solo', 'Has_Doodle', 'Has_Medley', \"Kill_'Em_All_Count\",\n",
    "        'Ride_The_Lightning_Count', 'Master_Of_Puppets_Count',\n",
    "        'And_Justice_For_All_Count', 'Metallica_Count', 'Load_Count',\n",
    "        'Re_Load_Count', 'Garage_Inc_Count', 'St_Anger_Count',\n",
    "        'Death_Magnetic_Count', 'Hardwired_To_Self_Destruct_Count',\n",
    "        'URL']]"
   ]
  },
  {
   "cell_type": "code",
   "execution_count": 279,
   "metadata": {},
   "outputs": [],
   "source": [
    "final.to_csv('./Clean/Metallica_Data_Clean.csv',index=False)"
   ]
  },
  {
   "cell_type": "markdown",
   "metadata": {},
   "source": [
    "<img src=\"Assets/james.gif\">"
   ]
  },
  {
   "cell_type": "code",
   "execution_count": null,
   "metadata": {},
   "outputs": [],
   "source": []
  }
 ],
 "metadata": {
  "kernelspec": {
   "display_name": "Python 3",
   "language": "python",
   "name": "python3"
  },
  "language_info": {
   "codemirror_mode": {
    "name": "ipython",
    "version": 3
   },
   "file_extension": ".py",
   "mimetype": "text/x-python",
   "name": "python",
   "nbconvert_exporter": "python",
   "pygments_lexer": "ipython3",
   "version": "3.6.8"
  }
 },
 "nbformat": 4,
 "nbformat_minor": 2
}
